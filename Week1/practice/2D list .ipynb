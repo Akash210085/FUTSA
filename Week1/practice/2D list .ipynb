{
 "cells": [
  {
   "cell_type": "code",
   "execution_count": 3,
   "id": "bd42a455",
   "metadata": {
    "scrolled": true
   },
   "outputs": [
    {
     "name": "stdout",
     "output_type": "stream",
     "text": [
      "[2, 3, 4]\n",
      "2\n",
      "6\n"
     ]
    }
   ],
   "source": [
    "l=[[2,3,4],[4,5],6,7]\n",
    "print(l[0])\n",
    "print(l[0][0])\n",
    "print(l[2])"
   ]
  },
  {
   "cell_type": "code",
   "execution_count": 5,
   "id": "c4d782db",
   "metadata": {
    "scrolled": false
   },
   "outputs": [
    {
     "name": "stdout",
     "output_type": "stream",
     "text": [
      "4 5 6 7 \n"
     ]
    },
    {
     "data": {
      "text/plain": [
       "[4, 5, 6, 7]"
      ]
     },
     "execution_count": 5,
     "metadata": {},
     "output_type": "execute_result"
    }
   ],
   "source": [
    "# 1 D array input\n",
    "l=[int(x) for x in input().strip().split()]\n",
    "l"
   ]
  },
  {
   "cell_type": "code",
   "execution_count": 8,
   "id": "4dc1ed8d",
   "metadata": {},
   "outputs": [
    {
     "data": {
      "text/plain": [
       "[[0, 0, 0],\n",
       " [0, 1, 1],\n",
       " [0, 2, 4],\n",
       " [0, 3, 9],\n",
       " [0, 4, 16],\n",
       " [0, 5, 25],\n",
       " [0, 6, 36],\n",
       " [0, 7, 49],\n",
       " [0, 8, 64],\n",
       " [0, 9, 81]]"
      ]
     },
     "execution_count": 8,
     "metadata": {},
     "output_type": "execute_result"
    }
   ],
   "source": [
    "l2D=[[0,i,i*i] for i in range(10)]\n",
    "l2D"
   ]
  },
  {
   "cell_type": "code",
   "execution_count": 10,
   "id": "db6ee012",
   "metadata": {},
   "outputs": [
    {
     "data": {
      "text/plain": [
       "[[0, 1, 2, 3, 4],\n",
       " [0, 1, 2, 3, 4],\n",
       " [0, 1, 2, 3, 4],\n",
       " [0, 1, 2, 3, 4],\n",
       " [0, 1, 2, 3, 4],\n",
       " [0, 1, 2, 3, 4],\n",
       " [0, 1, 2, 3, 4],\n",
       " [0, 1, 2, 3, 4],\n",
       " [0, 1, 2, 3, 4],\n",
       " [0, 1, 2, 3, 4]]"
      ]
     },
     "execution_count": 10,
     "metadata": {},
     "output_type": "execute_result"
    }
   ],
   "source": [
    "l2D=[[j for j in range(5)] for i in range(10)]\n",
    "l2D"
   ]
  },
  {
   "cell_type": "code",
   "execution_count": 12,
   "id": "0ec8fbf6",
   "metadata": {},
   "outputs": [
    {
     "data": {
      "text/plain": [
       "[[0, 1, 2, 3, 4],\n",
       " [5, 6, 7, 8, 9],\n",
       " [10, 11, 12, 13, 14],\n",
       " [15, 16, 17, 18, 19],\n",
       " [20, 21, 22, 23, 24],\n",
       " [25, 26, 27, 28, 29],\n",
       " [30, 31, 32, 33, 34],\n",
       " [35, 36, 37, 38, 39],\n",
       " [40, 41, 42, 43, 44],\n",
       " [45, 46, 47, 48, 49]]"
      ]
     },
     "execution_count": 12,
     "metadata": {},
     "output_type": "execute_result"
    }
   ],
   "source": [
    "l2D=[[ i*5+j for j in range(5)] for i in range(10)]\n",
    "l2D"
   ]
  },
  {
   "cell_type": "code",
   "execution_count": 31,
   "id": "c61f7dab",
   "metadata": {},
   "outputs": [
    {
     "name": "stdout",
     "output_type": "stream",
     "text": [
      "Enter No of rows and columns as R C\n",
      "3 4\n",
      "Enter data as 1 2 3 4 . .\n",
      "1 2 3 4 5 6 7 8 9 10 11 12\n"
     ]
    },
    {
     "data": {
      "text/plain": [
       "[[1, 2, 3, 4], [5, 6, 7, 8], [9, 10, 11, 12]]"
      ]
     },
     "execution_count": 31,
     "metadata": {},
     "output_type": "execute_result"
    }
   ],
   "source": [
    "# take input in 2D array\n",
    "\n",
    "print(\"Enter No of rows and columns as R C\")\n",
    "l1=input().strip().split()\n",
    "\n",
    "r=int(l1[0])\n",
    "c=int(l1[1])\n",
    "print(\"Enter data as 1 2 3 4 . .\")\n",
    "l=input().strip().split()\n",
    "n=len(l)\n",
    "for i in range(n):\n",
    "    l[i]=int(l[i])\n",
    "\n",
    "l2D=[[ l[i*c+j] for j in range(c)] for i in range(r)]\n",
    "l2D"
   ]
  },
  {
   "cell_type": "code",
   "execution_count": 54,
   "id": "bd637dce",
   "metadata": {},
   "outputs": [
    {
     "name": "stdout",
     "output_type": "stream",
     "text": [
      "Enter No of rows and columns as R C\n",
      "3 3\n",
      "3 4 5 \n",
      "5 6 7 \n",
      "7 8 9\n"
     ]
    },
    {
     "data": {
      "text/plain": [
       "[[3, 4, 5], [5, 6, 7], [7, 8, 9]]"
      ]
     },
     "execution_count": 54,
     "metadata": {},
     "output_type": "execute_result"
    }
   ],
   "source": [
    "print(\"Enter No of rows and columns as R C\")\n",
    "l1=input().strip().split()\n",
    "r=int(l1[0])\n",
    "c=int(l1[1])\n",
    "l2D=[]\n",
    "\n",
    "for i in range(r):\n",
    "    l2D.append([])\n",
    "\n",
    "for i in range(r):\n",
    "    l=[int(x) for x in input().strip().split()]\n",
    "    #print(l)\n",
    "    #print(i)\n",
    "    l2D[i]=l\n",
    "l2D"
   ]
  },
  {
   "cell_type": "code",
   "execution_count": 46,
   "id": "2c62125a",
   "metadata": {},
   "outputs": [
    {
     "data": {
      "text/plain": [
       "[10, 1, 2, 3, 4, 5, 6, 7, 8, 9]"
      ]
     },
     "execution_count": 46,
     "metadata": {},
     "output_type": "execute_result"
    }
   ],
   "source": [
    "l2D=[i for i in range(10)]\n",
    "l2D[0]=10\n",
    "l2D"
   ]
  },
  {
   "cell_type": "code",
   "execution_count": 56,
   "id": "4f6f50ad",
   "metadata": {},
   "outputs": [
    {
     "name": "stdout",
     "output_type": "stream",
     "text": [
      "3 5 7 8 6 4 5 7 9 "
     ]
    }
   ],
   "source": [
    "#  Wave print() of 2D array\n",
    "l2D\n",
    "for j in range(c):\n",
    "    if(j%2==0):\n",
    "        for i in range(r):\n",
    "            print(l2D[i][j], end=\" \")\n",
    "    else:\n",
    "        for i in reversed(range(r)):\n",
    "            print(l2D[i][j],end=\" \")\n"
   ]
  }
 ],
 "metadata": {
  "kernelspec": {
   "display_name": "Python 3 (ipykernel)",
   "language": "python",
   "name": "python3"
  },
  "language_info": {
   "codemirror_mode": {
    "name": "ipython",
    "version": 3
   },
   "file_extension": ".py",
   "mimetype": "text/x-python",
   "name": "python",
   "nbconvert_exporter": "python",
   "pygments_lexer": "ipython3",
   "version": "3.10.9"
  }
 },
 "nbformat": 4,
 "nbformat_minor": 5
}
